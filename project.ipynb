{
 "cells": [
  {
   "cell_type": "markdown",
   "metadata": {},
   "source": [
    "# UCU 2024 - Proyecto 1\n",
    "Web Scraping - Proyecto para la asignatura Programación para Análisis de Datos"
   ]
  },
  {
   "cell_type": "code",
   "execution_count": 30,
   "metadata": {
    "ExecuteTime": {
     "end_time": "2024-10-22T21:36:47.931767600Z",
     "start_time": "2024-10-22T21:36:47.904832500Z"
    }
   },
   "outputs": [],
   "source": [
    "import requests\n",
    "import json"
   ]
  },
  {
   "cell_type": "code",
   "execution_count": 31,
   "outputs": [],
   "source": [
    "#get para solicitar info a la api\n",
    "def get_bitcoin_data(date):\n",
    " url = f'https://api.coingecko.com/api/v3/coins/bitcoin/history?date={date}'\n",
    " response = requests.get(url)\n",
    " if response.status_code == 200:\n",
    "  data = response.json()\n",
    "  try:\n",
    "      price_usd= data['market_data']['current_price']['usd']\n",
    "      price_eur= data['market_data']['current_price']['eur']\n",
    "      market_cap_usd= data['market_data']['market_cap']['usd']\n",
    "      return {\n",
    "          'data': [\n",
    "              {'date': date, 'price_usd' : price_usd, 'price eur' : price_eur, 'market cap usd' : market_cap_usd}\n",
    "          ]\n",
    "      }\n",
    "  except KeyError:\n",
    "      print(f'Datos no disponibles para {date}')\n",
    "      return None  "
   ],
   "metadata": {
    "collapsed": false,
    "ExecuteTime": {
     "end_time": "2024-10-22T21:36:47.937354100Z",
     "start_time": "2024-10-22T21:36:47.914724600Z"
    }
   }
  },
  {
   "cell_type": "code",
   "execution_count": 32,
   "outputs": [],
   "source": [
    "#lista de fechas\n",
    "dates = ['01-01-2024', '01-07-2024']"
   ],
   "metadata": {
    "collapsed": false,
    "ExecuteTime": {
     "end_time": "2024-10-22T21:36:47.938356300Z",
     "start_time": "2024-10-22T21:36:47.921135100Z"
    }
   }
  },
  {
   "cell_type": "code",
   "execution_count": 33,
   "outputs": [],
   "source": [
    "#lista para almacenar los datos\n",
    "bitcoin_data = []"
   ],
   "metadata": {
    "collapsed": false,
    "ExecuteTime": {
     "end_time": "2024-10-22T21:36:47.963418300Z",
     "start_time": "2024-10-22T21:36:47.929771200Z"
    }
   }
  },
  {
   "cell_type": "code",
   "execution_count": 34,
   "outputs": [],
   "source": [
    "#bucle para datos de cada fecha\n",
    "for date in dates:\n",
    "    data = get_bitcoin_data(date)\n",
    "    if data:\n",
    "        bitcoin_data.append(data)"
   ],
   "metadata": {
    "collapsed": false,
    "ExecuteTime": {
     "end_time": "2024-10-22T21:36:48.197426800Z",
     "start_time": "2024-10-22T21:36:47.941353300Z"
    }
   }
  },
  {
   "cell_type": "code",
   "execution_count": 35,
   "outputs": [],
   "source": [
    "# Guardar los datos en un archivo JSON\n",
    "with open('bitcoin_historical_data.json', 'w') as f:\n",
    "    json.dump(bitcoin_data, f, indent=4)"
   ],
   "metadata": {
    "collapsed": false,
    "ExecuteTime": {
     "end_time": "2024-10-22T21:36:48.205736100Z",
     "start_time": "2024-10-22T21:36:48.199426800Z"
    }
   }
  },
  {
   "cell_type": "code",
   "execution_count": 36,
   "outputs": [
    {
     "name": "stdout",
     "output_type": "stream",
     "text": [
      "Datos guardados en bitcoin_historical_data.json\n"
     ]
    }
   ],
   "source": [
    "print(\"Datos guardados en bitcoin_historical_data.json\")"
   ],
   "metadata": {
    "collapsed": false,
    "ExecuteTime": {
     "end_time": "2024-10-22T21:36:48.213535600Z",
     "start_time": "2024-10-22T21:36:48.208053400Z"
    }
   }
  }
 ],
 "metadata": {
  "kernelspec": {
   "display_name": "Python 3",
   "language": "python",
   "name": "python3"
  },
  "language_info": {
   "name": "python",
   "version": "3.12.1"
  }
 },
 "nbformat": 4,
 "nbformat_minor": 2
}
