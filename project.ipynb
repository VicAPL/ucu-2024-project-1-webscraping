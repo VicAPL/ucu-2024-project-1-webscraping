{
 "cells": [
  {
   "cell_type": "markdown",
   "metadata": {},
   "source": [
    "# UCU 2024 - Proyecto 1\n",
    "Web Scraping - Proyecto para la asignatura Programación para Análisis de Datos"
   ]
  },
  {
   "cell_type": "code",
   "execution_count": 87,
   "outputs": [
    {
     "name": "stdout",
     "output_type": "stream",
     "text": [
      "Datos guardados en propiedades.json\n"
     ]
    }
   ],
   "source": [
    "import requests\n",
    "from bs4 import BeautifulSoup\n",
    "import json\n",
    "\n",
    "def get_info_prop(ubicacion):\n",
    "    url = f'https://www.infocasas.com.uy/venta/{ubicacion}'\n",
    "    \n",
    "    # Simular un navegador real con headers\n",
    "    headers = {\n",
    "        'User-Agent': 'Mozilla/5.0 (Windows NT 10.0; Win64; x64) AppleWebKit/537.36 (KHTML, like Gecko) Chrome/58.0.3029.110 Safari/537.36'\n",
    "    }\n",
    "    \n",
    "    response = requests.get(url, headers=headers)\n",
    "    \n",
    "    # Verificar si la solicitud fue exitosa\n",
    "    if response.status_code != 200:\n",
    "        print(f\"Error al acceder a la página: {response.status_code}\")\n",
    "        return []\n",
    "    \n",
    "    soup = BeautifulSoup(response.content, 'html.parser')\n",
    "    \n",
    "    propiedades = soup.find_all('div', class_='listingCard')\n",
    "    propiedades_data = []\n",
    "\n",
    "    for propiedad in propiedades:\n",
    "        # Solicitamos la información del precio\n",
    "        precio_elem = propiedad.find('div', class_='lc-price')\n",
    "        precio = precio_elem.get_text(strip=True) if precio_elem else 'N/A'\n",
    "        \n",
    "        # Solicitamos info del tamaño y habitaciones\n",
    "        detalles_elem = propiedad.find('div', class_='lc-typologyTag')\n",
    "        if detalles_elem:\n",
    "            detalles = detalles_elem.get_text(strip=True).split(' ')\n",
    "            habitaciones = detalles[0] if len(detalles) > 0 else 'N/A'\n",
    "            tamano = detalles[-2] if 'm²' in detalles else 'N/A'\n",
    "        else:\n",
    "            habitaciones, tamano = 'N/A', 'N/A'\n",
    "        \n",
    "        # Solicitamos el link a la propiedad\n",
    "        link_elem = propiedad.find('a', class_='lc-cardCover')\n",
    "        link = f\"https://www.infocasas.com.uy{link_elem['href']}\" if link_elem else 'N/A'           \n",
    "        \n",
    "        # Solicitamos la ubicación\n",
    "        ubicacion_elem = propiedad.find('strong', class_='lc-location')\n",
    "        ubicacion_real = ubicacion_elem.get_text(strip=True) if ubicacion_elem else 'N/A'\n",
    "        \n",
    "        # Verifica si la ubicación de la propiedad coincide con la ciudad que estamos consultando\n",
    "        if ubicacion.capitalize() in ubicacion_real: \n",
    "            # Guardamos los datos de cada propiedad en un diccionario\n",
    "            propiedades_data.append({\n",
    "                'precio': precio,\n",
    "                'tamaño': tamano,\n",
    "                'habitaciones': habitaciones,\n",
    "                'link': link,\n",
    "            })\n",
    "\n",
    "    return propiedades_data\n",
    "\n",
    "# Lista de departamentos\n",
    "departamentos = ['montevideo', 'salto', 'maldonado']\n",
    "\n",
    "# Lista para almacenar las ciudades y sus propiedades\n",
    "ciudades_data = []\n",
    "\n",
    "# Bucle para obtener datos de cada ciudad\n",
    "for ubicacion in departamentos:\n",
    "    propiedades = get_info_prop(ubicacion)\n",
    "    if propiedades:\n",
    "        ciudades_data.append({\n",
    "            'nombre': ubicacion.capitalize(),\n",
    "            'propiedades': propiedades\n",
    "        })\n",
    "\n",
    "# Estructura final del JSON con una clave \"ciudades\"\n",
    "final_data = {\n",
    "    'ciudades': ciudades_data\n",
    "}\n",
    "\n",
    "# Guardar los datos en un archivo JSON\n",
    "with open('propiedades.json', 'w', encoding='utf-8') as f:\n",
    "    json.dump(final_data, f, indent=4, ensure_ascii=False)\n",
    "\n",
    "print('Datos guardados en propiedades.json')"
   ],
   "metadata": {
    "collapsed": false,
    "ExecuteTime": {
     "end_time": "2024-10-23T00:52:37.140706600Z",
     "start_time": "2024-10-23T00:52:31.025661500Z"
    }
   }
  },
  {
   "cell_type": "markdown",
   "source": [],
   "metadata": {
    "collapsed": false
   }
  }
 ],
 "metadata": {
  "kernelspec": {
   "display_name": "Python 3",
   "language": "python",
   "name": "python3"
  },
  "language_info": {
   "name": "python",
   "version": "3.12.1"
  }
 },
 "nbformat": 4,
 "nbformat_minor": 2
}
